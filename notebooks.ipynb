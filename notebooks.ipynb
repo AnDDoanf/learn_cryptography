{
  "cells": [
    {
      "cell_type": "markdown",
      "metadata": {
        "id": "HoPWzjiHkQSg"
      },
      "source": [
        "### A5/1 cipher"
      ]
    },
    {
      "cell_type": "code",
      "execution_count": null,
      "metadata": {
        "id": "y8D2kh3ClNQv"
      },
      "outputs": [],
      "source": [
        "def maj(a, b, c):\n",
        "  return int((a+b+c)/3+0.34)\n",
        "\n",
        "def keystream_generation(x, y, z, n):\n",
        "  keystream = []\n",
        "  for i in range(n):\n",
        "    key = x[-1] ^ y[-1] ^ z[-1]\n",
        "    keystream.append(key)\n",
        "    m = maj(x[8], y[10], z[10])\n",
        "\n",
        "    print(\"\\nX: \", end = \"\")\n",
        "    if(x[8] == m):\n",
        "      x0 = x[13] ^ x[16] ^ x[17] ^ x[18]\n",
        "      for j in reversed(range(len(x))): \n",
        "        if(j == 0):\n",
        "          x[j] = x0\n",
        "        else:\n",
        "          x[j] = x[j-1]\n",
        "    for j in x:\n",
        "      print(j, end='')\n",
        "\n",
        "    print(\"\\nY: \", end = \"\")\n",
        "    if(y[10] == m):\n",
        "      y0 = y[20] ^ y[21]\n",
        "      for j in reversed(range(len(y))):\n",
        "        if(j == 0):\n",
        "          y[j] = y0\n",
        "        else:\n",
        "          y[j] = y[j-1]\n",
        "    for j in y:\n",
        "      print(j, end = \"\")\n",
        "\n",
        "    print(\"\\nZ: \", end = \"\")\n",
        "    if(z[10] == m):\n",
        "      z0 = z[7] ^ z[20] ^ z[21] ^ z[22]\n",
        "      for j in reversed(range(len(z))):\n",
        "        if(j == 0):\n",
        "          z[j] = z0\n",
        "        else:\n",
        "          z[j] = z[j-1]\n",
        "    for j in z:\n",
        "      print(j, end = \"\")\n",
        "\n",
        "    print(\"\\nKey bit: \", key)\n",
        "  return keystream"
      ]
    },
    {
      "cell_type": "code",
      "execution_count": null,
      "metadata": {
        "colab": {
          "base_uri": "https://localhost:8080/"
        },
        "id": "Qk-Elz5IkPzo",
        "outputId": "813a7731-bee6-4756-88f3-8cd38bcaaf63"
      },
      "outputs": [
        {
          "name": "stdout",
          "output_type": "stream",
          "text": [
            "\n",
            "X: 0101010101010101010\n",
            "Y: 1100110011001100110011\n",
            "Z: 11110000111100001111000\n",
            "Key bit:  0\n",
            "\n",
            "X: 0010101010101010101\n",
            "Y: 0110011001100110011001\n",
            "Z: 11110000111100001111000\n",
            "Key bit:  1\n",
            "\n",
            "X: 0001010101010101010\n",
            "Y: 1011001100110011001100\n",
            "Z: 01111000011110000111100\n",
            "Key bit:  0\n",
            "\n",
            "X: 0001010101010101010\n",
            "Y: 0101100110011001100110\n",
            "Z: 10111100001111000011110\n",
            "Key bit:  0\n",
            "\n",
            "X: 0000101010101010101\n",
            "Y: 1010110011001100110011\n",
            "Z: 10111100001111000011110\n",
            "Key bit:  0\n",
            "\n",
            "X: 0000010101010101010\n",
            "Y: 1010110011001100110011\n",
            "Z: 01011110000111100001111\n",
            "Key bit:  0\n",
            "\n",
            "X: 0000001010101010101\n",
            "Y: 0101011001100110011001\n",
            "Z: 10101111000011110000111\n",
            "Key bit:  0\n",
            "\n",
            "X: 0000000101010101010\n",
            "Y: 1010101100110011001100\n",
            "Z: 10101111000011110000111\n",
            "Key bit:  1\n",
            "\n",
            "X: 0000000010101010101\n",
            "Y: 1010101100110011001100\n",
            "Z: 01010111100001111000011\n",
            "Key bit:  1\n",
            "\n",
            "X: 0000000001010101010\n",
            "Y: 0101010110011001100110\n",
            "Z: 01010111100001111000011\n",
            "Key bit:  0\n",
            "\n",
            "Keystream:  0100000110\n"
          ]
        }
      ],
      "source": [
        "x = [1,0,1,0,1,0,1,0,1,0,1,0,1,0,1,0,1,0,1]\n",
        "y = [1,1,0,0,1,1,0,0,1,1,0,0,1,1,0,0,1,1,0,0,1,1]\n",
        "z = [1,1,1,0,0,0,0,1,1,1,1,0,0,0,0,1,1,1,1,0,0,0,0]\n",
        "n = 10\n",
        "\n",
        "keystream = keystream_generation(x, y, z, n)\n",
        "print(\"\\nKeystream: \", \"\".join(map(str, keystream)))"
      ]
    },
    {
      "cell_type": "markdown",
      "metadata": {
        "id": "llHiJKtpTXYA"
      },
      "source": [
        "### Exponential Squaring Fast Modulo Multiplication"
      ]
    },
    {
      "cell_type": "code",
      "execution_count": 6,
      "metadata": {
        "id": "pYENddIoS_li"
      },
      "outputs": [],
      "source": [
        "def exponentiation(bas, exp, N):\n",
        "    if (exp == 0):\n",
        "        return 1\n",
        "    if (exp == 1):\n",
        "        return bas % N\n",
        "\n",
        "    t = exponentiation(bas, int(exp / 2), N)\n",
        "    t = (t * t) % N\n",
        "\n",
        "    if (exp % 2 == 0):\n",
        "        return t\n",
        "         \n",
        "    else:\n",
        "        return ((bas % N) * t) % N"
      ]
    },
    {
      "cell_type": "code",
      "execution_count": null,
      "metadata": {
        "colab": {
          "base_uri": "https://localhost:8080/"
        },
        "id": "K45IV1KjTujO",
        "outputId": "dec9a831-2e55-4a0d-cbcd-233d434ad8a3"
      },
      "outputs": [
        {
          "data": {
            "text/plain": [
              "754573817"
            ]
          },
          "execution_count": 12,
          "metadata": {},
          "output_type": "execute_result"
        }
      ],
      "source": [
        "exponentiation(5, 100000, 1000000007)"
      ]
    },
    {
      "cell_type": "markdown",
      "metadata": {
        "id": "N0lt6eXeV3-s"
      },
      "source": [
        "### RSA algorithm\n"
      ]
    },
    {
      "cell_type": "code",
      "execution_count": 8,
      "metadata": {
        "id": "xIot0Q2kWJRc"
      },
      "outputs": [],
      "source": [
        "import random\n",
        "import math\n",
        "def rsa_generate_key(p: int, q: int, e:int):\n",
        "    \"\"\"Return an RSA key pair generated using primes p and q.\n",
        "\n",
        "    The return value is a tuple containing two tuples:\n",
        "      1. The first tuple is the private key, containing (p, q, d).\n",
        "      2. The second tuple is the public key, containing (n, e).\n",
        "\n",
        "    Preconditions:\n",
        "        - p and q are prime\n",
        "        - p != q\n",
        "    \"\"\"\n",
        "    # Compute the product of p and q\n",
        "    n = p * q\n",
        "\n",
        "    # Choose e such that gcd(e, phi_n) == 1.\n",
        "    phi_n = (p - 1) * (q - 1)\n",
        "\n",
        "    # Since e is chosen randomly, we repeat the random choice\n",
        "    # until e is coprime to phi_n.\n",
        "\n",
        "    # e = random.randint(2, phi_n - 1)\n",
        "    # while math.gcd(e, phi_n) != 1:\n",
        "    #     e = random.randint(2, phi_n - 1)\n",
        "\n",
        "    # Choose d such that (e * d) % phi_n = 1.\n",
        "    d = pow(e, -1, phi_n)\n",
        "\n",
        "    return ((p, q, d), (n, e))"
      ]
    },
    {
      "cell_type": "code",
      "execution_count": 9,
      "metadata": {
        "id": "pWfhMXYYXtAz"
      },
      "outputs": [],
      "source": [
        "def rsa_encrypt(public_key, plaintext):\n",
        "    \"\"\"Encrypt the given plaintext using the recipient's public key.\n",
        "\n",
        "    Preconditions:\n",
        "        - public_key is a valid RSA public key (n, e)\n",
        "        - 0 < plaintext < public_key[0]\n",
        "    \"\"\"\n",
        "    n, e = public_key\n",
        "\n",
        "    encrypted = (plaintext ** e) % n\n",
        "\n",
        "    return encrypted"
      ]
    },
    {
      "cell_type": "code",
      "execution_count": 3,
      "metadata": {
        "id": "FJJe82UGX4V1"
      },
      "outputs": [],
      "source": [
        "def rsa_decrypt(private_key,  ciphertext):\n",
        "    \"\"\"Decrypt the given ciphertext using the recipient's private key.\n",
        "\n",
        "    Preconditions:\n",
        "        - private_key is a valid RSA private key (p, q, d)\n",
        "        - 0 < ciphertext < private_key[0] * private_key[1]\n",
        "    \"\"\"\n",
        "    p, q, d = private_key\n",
        "    n = p * q\n",
        "\n",
        "    decrypted = (ciphertext ** d) % n\n",
        "\n",
        "    return decrypted"
      ]
    },
    {
      "cell_type": "code",
      "execution_count": 4,
      "metadata": {
        "id": "iLN6asvqhwnL"
      },
      "outputs": [],
      "source": [
        "#Compute signature\n",
        "def sign_generate(x, d, n):\n",
        "  return exponentiation(x, d, n)"
      ]
    },
    {
      "cell_type": "code",
      "execution_count": 11,
      "metadata": {
        "colab": {
          "base_uri": "https://localhost:8080/"
        },
        "id": "VspwimPLYiT3",
        "outputId": "44cbe1a2-35fd-4f35-9229-d879b1de40b7"
      },
      "outputs": [
        {
          "name": "stdout",
          "output_type": "stream",
          "text": [
            "private key: 209\n",
            "public key: (697, 49)\n",
            "ciphertext: 345\n",
            "signature sent: 345\n",
            "decrypted text: 600\n",
            "signature verify: 600\n"
          ]
        }
      ],
      "source": [
        "priv_key, pub_key = rsa_generate_key(p=41, q=17, e=49) \n",
        "\n",
        "M =600\n",
        "C = rsa_encrypt(public_key=pub_key, plaintext=M)\n",
        "\n",
        "M_decrypt = rsa_decrypt(private_key=priv_key, ciphertext=C)\n",
        "\n",
        "print(\"private key: {}\".format(priv_key[-1]))\n",
        "print(\"public key: {}\".format(pub_key))\n",
        "print(\"ciphertext: {}\".format(C))\n",
        "\n",
        "sign1 = sign_generate(M, priv_key[-1], pub_key[0])\n",
        "print(\"signature sent: {}\".format(sign1))\n",
        "print(\"decrypted text: {}\".format(M_decrypt))\n",
        "\n",
        "sign2 = sign_generate(sign1, pub_key[-1], pub_key[0])\n",
        "print(\"signature verify: {}\".format(sign2))"
      ]
    },
    {
      "cell_type": "markdown",
      "metadata": {
        "id": "NU5ppQUba4Ok"
      },
      "source": [
        "### Diffle-Hellman algorithm"
      ]
    },
    {
      "cell_type": "code",
      "execution_count": null,
      "metadata": {
        "id": "ZnWQrJPNba5k"
      },
      "outputs": [],
      "source": [
        "def publickey(g,a,p):  \n",
        "\tastar=pow(g,a,p)  # pow(base,exp,m) is equivalent to base**exp mod m\n",
        "\treturn astar\n",
        "\n",
        "def superkey(public_key,a,p): \n",
        "\tx=pow(public_key,a,p)\n",
        "\treturn x\n",
        "\n",
        "def encrypt(superkey, text, p):\n",
        "  return (text+x) % p\n",
        "\n",
        "def decrypt(superkey, ciphertext, p):\n",
        "  return (ciphertext-x)%p"
      ]
    },
    {
      "cell_type": "code",
      "execution_count": null,
      "metadata": {
        "colab": {
          "base_uri": "https://localhost:8080/"
        },
        "id": "2gXAQd-Ych18",
        "outputId": "f3aae461-3fff-4b3f-837a-ec4dd51fd66e"
      },
      "outputs": [
        {
          "name": "stdout",
          "output_type": "stream",
          "text": [
            "the public key of Alice is=  7436\n",
            "the public key of Bob is=  21169\n",
            "the superkey is =  74192\n",
            "encrypted=  74204\n",
            "decrypted=  12\n"
          ]
        }
      ],
      "source": [
        "# set the global parameters known to everybody\n",
        "p=103079\n",
        "g=7\n",
        "# here is the private key of Alice -- has to be < p\n",
        "a=13  \n",
        "astar=publickey(g,a,p)\n",
        "print(\"the public key of Alice is= \", astar)\n",
        "\n",
        "# private and public keys for Bob -- has to be < p\n",
        "b=17\n",
        "bstar=publickey(g,b,p)\n",
        "print(\"the public key of Bob is= \", bstar)\n",
        "\n",
        "x= superkey(bstar,a,p)  \n",
        "print(\"the superkey is = \", x)\n",
        "\n",
        "text = 12\n",
        "ciphertext = encrypt(x, text, p)\n",
        "print('encrypted= ', ciphertext)\n",
        "\n",
        "decrypted_text = decrypt(x, ciphertext, p)\n",
        "print('decrypted= ', decrypted_text)"
      ]
    },
    {
      "cell_type": "markdown",
      "metadata": {
        "id": "k57s1G7A28yW"
      },
      "source": [
        "### Elgamal Digital Signature"
      ]
    },
    {
      "cell_type": "code",
      "execution_count": 23,
      "metadata": {
        "id": "7zAAPjuf3GO_"
      },
      "outputs": [],
      "source": [
        "def key_gen(p, alpha, d):\n",
        "  beta = exponentiation(alpha, d, p)\n",
        "  return (p, alpha, beta)\n",
        "\n",
        "def sign_gen(x, k_e, alpha, d):\n",
        "  r = exponentiation(alpha, k_e, p)\n",
        "  s = ((x-d*r)*pow(k_e, -1, p-1)) % (p-1)\n",
        "  return (x, r, s)\n",
        "\n",
        "def verify(key, sign):\n",
        "  p, alpha, beta = key\n",
        "  x, r, s = sign\n",
        "\n",
        "  u = (exponentiation(beta, r, p) * exponentiation(r, s, p))%p\n",
        "  v = exponentiation(alpha, x, p)\n",
        "  return u == v"
      ]
    },
    {
      "cell_type": "code",
      "execution_count": 24,
      "metadata": {
        "colab": {
          "base_uri": "https://localhost:8080/"
        },
        "id": "bqIg1Thu8EOd",
        "outputId": "6bb67b63-35cf-4a1e-e6ac-d6a132e722e8"
      },
      "outputs": [
        {
          "name": "stdout",
          "output_type": "stream",
          "text": [
            "key:  (97, 23, 15)\n",
            "signature:  (17, 87, 20)\n",
            "Is verify:  True\n"
          ]
        }
      ],
      "source": [
        "# Choose\n",
        "p = 97 # large prime\n",
        "alpha = 23 # primitive element of Z*p\n",
        "d = 67 # random integer\n",
        "x = 17 # message\n",
        "k_e = 31 # coprime with p-1\n",
        "\n",
        "key = key_gen(p, alpha, d)\n",
        "print(\"key: \", key)\n",
        "\n",
        "sign = sign_gen(x, k_e, alpha, d)\n",
        "print(\"signature: \", sign)\n",
        "\n",
        "verifyi = verify(key, sign)\n",
        "print(\"Is verify: \", verifyi)\n"
      ]
    },
    {
      "cell_type": "code",
      "execution_count": 18,
      "metadata": {},
      "outputs": [
        {
          "ename": "TypeError",
          "evalue": "'bool' object is not callable",
          "output_type": "error",
          "traceback": [
            "\u001b[1;31m---------------------------------------------------------------------------\u001b[0m",
            "\u001b[1;31mTypeError\u001b[0m                                 Traceback (most recent call last)",
            "\u001b[1;32md:\\pythin\\crypto\\notebooks.ipynb Cell 19\u001b[0m in \u001b[0;36m1\n\u001b[1;32m----> <a href='vscode-notebook-cell:/d%3A/pythin/crypto/notebooks.ipynb#X25sZmlsZQ%3D%3D?line=0'>1</a>\u001b[0m verify \u001b[39m=\u001b[39m verify(key, (\u001b[39m22\u001b[39m, \u001b[39m37\u001b[39m, \u001b[39m33\u001b[39m))\n\u001b[0;32m      <a href='vscode-notebook-cell:/d%3A/pythin/crypto/notebooks.ipynb#X25sZmlsZQ%3D%3D?line=1'>2</a>\u001b[0m \u001b[39mprint\u001b[39m(\u001b[39m\"\u001b[39m\u001b[39mIs verify: \u001b[39m\u001b[39m\"\u001b[39m, verify)\n",
            "\u001b[1;31mTypeError\u001b[0m: 'bool' object is not callable"
          ]
        }
      ],
      "source": [
        "verifyi = verify(key, (22, 37, 33))\n",
        "print(\"Is verify: \", verifyi)"
      ]
    },
    {
      "cell_type": "markdown",
      "metadata": {
        "id": "1dfW0PS7-R-z"
      },
      "source": []
    }
  ],
  "metadata": {
    "colab": {
      "collapsed_sections": [
        "HoPWzjiHkQSg",
        "llHiJKtpTXYA",
        "N0lt6eXeV3-s",
        "NU5ppQUba4Ok"
      ],
      "provenance": [],
      "toc_visible": true
    },
    "kernelspec": {
      "display_name": "Python 3",
      "name": "python3"
    },
    "language_info": {
      "codemirror_mode": {
        "name": "ipython",
        "version": 3
      },
      "file_extension": ".py",
      "mimetype": "text/x-python",
      "name": "python",
      "nbconvert_exporter": "python",
      "pygments_lexer": "ipython3",
      "version": "3.10.10"
    }
  },
  "nbformat": 4,
  "nbformat_minor": 0
}
